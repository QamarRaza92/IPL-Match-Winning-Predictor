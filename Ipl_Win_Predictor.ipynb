{
 "cells": [
  {
   "cell_type": "code",
   "execution_count": null,
   "metadata": {},
   "outputs": [],
   "source": [
    "#importing libraries\n",
    "import pandas as pd\n",
    "import numpy as np"
   ]
  },
  {
   "cell_type": "code",
   "execution_count": null,
   "id": "c48e5305",
   "metadata": {},
   "outputs": [],
   "source": [
    "pd.set_option('display.max_rows', None)\n",
    "pd.set_option('display.max_columns', None)\n",
    "pd.set_option('display.max_colwidth', None)\n",
    "\n",
    "matches = pd.read_csv(\"C:\\\\Users\\\\moham\\\\Downloads\\\\data.csv\")\n",
    "deliveries = pd.read_csv(\"C:\\\\Users\\\\moham\\\\Downloads\\\\deliveries.csv\")"
   ]
  },
  {
   "cell_type": "code",
   "execution_count": null,
   "id": "2b8c66b2",
   "metadata": {},
   "outputs": [],
   "source": [
    "matches.sample(10)"
   ]
  },
  {
   "cell_type": "code",
   "execution_count": null,
   "id": "4dcfd8cb",
   "metadata": {},
   "outputs": [],
   "source": [
    "deliveries.sample(10)"
   ]
  },
  {
   "cell_type": "code",
   "execution_count": null,
   "id": "0b68c06e",
   "metadata": {},
   "outputs": [],
   "source": [
    "total_runs_df = deliveries.groupby(['match_id','inning'])['total_runs'].sum().reset_index()\n",
    "total_runs_df = total_runs_df[total_runs_df['inning']==1]\n",
    "total_runs_df.sample(10)\n"
   ]
  },
  {
   "cell_type": "code",
   "execution_count": null,
   "id": "892bcdc7",
   "metadata": {},
   "outputs": [],
   "source": [
    "merged_df = total_runs_df.merge(matches,left_on='match_id',right_on='id').drop(columns=['player_of_match','umpire1','umpire2','umpire3','toss_winner','toss_decision','date','season','venue','id'])\n",
    "merged_df = merged_df[merged_df['dl_applied']==0]\n",
    "merged_df = merged_df[merged_df['result']=='normal']\n",
    "merged_df.drop(columns=['result','dl_applied','inning'],inplace=True)\n",
    "print(merged_df.shape)\n",
    "merged_df.sample(5)"
   ]
  },
  {
   "cell_type": "code",
   "execution_count": null,
   "id": "28097e85",
   "metadata": {},
   "outputs": [],
   "source": [
    "merged_df2 = merged_df.merge(deliveries,left_on='match_id',right_on='match_id')\n",
    "merged_df2['Current_Runs'] = merged_df2.groupby(['match_id','inning'])['total_runs_y'].cumsum()\n",
    "print(merged_df2.shape)\n",
    "merged_df2.head(5)"
   ]
  },
  {
   "cell_type": "code",
   "execution_count": null,
   "id": "c71b90cf",
   "metadata": {},
   "outputs": [],
   "source": [
    "import warnings\n",
    "warnings.filterwarnings(message='A value is trying to be set on a copy of a slice from a DataFrame.',action='ignore')\n",
    "pd.options.mode.chained_assignment = None \n",
    "merged_inning2 = merged_df2[merged_df2['inning']==2]\n",
    "merged_inning2['Required_Runs'] = merged_inning2['total_runs_x'] - merged_inning2['Current_Runs']\n",
    "merged_inning2['Required_Runs'] = merged_inning2['Required_Runs']+1\n",
    "print(merged_inning2.shape)\n",
    "merged_inning2.head(10)"
   ]
  },
  {
   "cell_type": "code",
   "execution_count": null,
   "id": "a56059a4",
   "metadata": {},
   "outputs": [],
   "source": [
    "\n",
    "pd.options.mode.chained_assignment = None \n",
    "merged_inning2['player_dismissed']=merged_inning2['player_dismissed'].fillna(0)\n",
    "merged_inning2['player_dismissed']=merged_inning2['player_dismissed'].apply(lambda x:0 if x==0 else 1)\n",
    "merged_inning2.head(5)"
   ]
  },
  {
   "cell_type": "code",
   "execution_count": null,
   "id": "5a780f1f",
   "metadata": {},
   "outputs": [],
   "source": [
    "pd.options.mode.chained_assignment = None \n",
    "merged_inning2['current_balls_bowled'] = ((merged_inning2['over']-1)*6)+merged_inning2['ball']\n",
    "merged_inning2['balls_left'] = 120 - merged_inning2['current_balls_bowled']\n",
    "merged_inning2['current_run_rate'] = merged_inning2['Current_Runs']/((merged_inning2['current_balls_bowled']/6))\n",
    "merged_inning2['required_run_rate'] = merged_inning2['Required_Runs']/((merged_inning2['balls_left']/6))\n",
    "merged_inning2.drop(columns=['dismissal_kind','fielder','win_by_runs',\t'win_by_wickets',\t'team1','team2','batsman','non_striker','bowler','is_super_over','wide_runs','bye_runs','legbye_runs','noball_runs','penalty_runs','batsman_runs','extra_runs'],axis=1,inplace=True)\n",
    "merged_inning2.head(10)"
   ]
  },
  {
   "cell_type": "code",
   "execution_count": null,
   "id": "455f7943",
   "metadata": {},
   "outputs": [],
   "source": [
    "merged_inning2['win'] = merged_inning2.apply(\n",
    "    lambda row: 1 if row['winner'] == row['batting_team'] else 0, axis=1\n",
    ")\n",
    "print(merged_inning2.shape)\n",
    "merged_inning2.sample(5)"
   ]
  },
  {
   "cell_type": "code",
   "execution_count": null,
   "id": "392c7ff0",
   "metadata": {},
   "outputs": [],
   "source": [
    "pd.options.mode.chained_assignment = None \n",
    "temp = merged_inning2.groupby('match_id')['player_dismissed'].cumsum().reset_index()"
   ]
  },
  {
   "cell_type": "code",
   "execution_count": null,
   "id": "98d44837",
   "metadata": {},
   "outputs": [],
   "source": [
    "temp.head(20)"
   ]
  },
  {
   "cell_type": "code",
   "execution_count": null,
   "id": "bb3b1cb8",
   "metadata": {},
   "outputs": [],
   "source": [
    "merged_inning2['index'] = [x for x in range(0,merged_inning2.shape[0])]\n",
    "merged_inning2.head(20)"
   ]
  },
  {
   "cell_type": "code",
   "execution_count": null,
   "id": "2def6427",
   "metadata": {},
   "outputs": [],
   "source": [
    "merged_inning2.set_index('index',inplace=True)\n",
    "merged_inning2.drop(columns=['player_dismissed'],axis=1,inplace=True)\n",
    "merged_inning2.head(20)"
   ]
  },
  {
   "cell_type": "code",
   "execution_count": null,
   "id": "844fedc3",
   "metadata": {},
   "outputs": [],
   "source": [
    "data = pd.concat([temp,merged_inning2],axis=1)\n",
    "final_df = data\n",
    "final_df.rename(columns={'player_dismissed':'wickets_down','total_runs_x':'target_score'},inplace=True)\n",
    "columns = final_df.columns\n",
    "print(columns)"
   ]
  },
  {
   "cell_type": "code",
   "execution_count": null,
   "id": "698c1e62",
   "metadata": {},
   "outputs": [],
   "source": [
    "final_df.head(20)"
   ]
  },
  {
   "cell_type": "code",
   "execution_count": null,
   "id": "ee8b6d70",
   "metadata": {},
   "outputs": [],
   "source": [
    "final_df.columns"
   ]
  },
  {
   "cell_type": "code",
   "execution_count": null,
   "id": "c395076d",
   "metadata": {},
   "outputs": [],
   "source": [
    "final_df.drop(columns=['index','match_id','winner','inning','total_runs_y'],axis=1,inplace=True)\n",
    "final_df.head(10)"
   ]
  },
  {
   "cell_type": "code",
   "execution_count": null,
   "id": "5b138ca0",
   "metadata": {},
   "outputs": [],
   "source": [
    "final_df.shape"
   ]
  },
  {
   "cell_type": "markdown",
   "id": "2020b709",
   "metadata": {},
   "source": [
    "Now before moving any further, let's check if our data has some missing values or some infinite values, it is necessary to remove them as it will cause difficulties in future model training"
   ]
  },
  {
   "cell_type": "code",
   "execution_count": null,
   "id": "d415f3fd",
   "metadata": {},
   "outputs": [],
   "source": [
    "final_df.isnull().sum()"
   ]
  },
  {
   "cell_type": "code",
   "execution_count": null,
   "id": "89cd6ce9",
   "metadata": {},
   "outputs": [],
   "source": [
    "final_df.dropna(inplace=True)\n",
    "final_df.describe()"
   ]
  },
  {
   "cell_type": "code",
   "execution_count": null,
   "id": "0b9bb58d",
   "metadata": {},
   "outputs": [],
   "source": [
    "final_df= final_df[final_df['balls_left']!=0]\n",
    "final_df.describe()"
   ]
  },
  {
   "cell_type": "code",
   "execution_count": null,
   "id": "4d372956",
   "metadata": {},
   "outputs": [],
   "source": [
    "print(final_df.shape)\n",
    "final_df.isnull().sum()"
   ]
  },
  {
   "cell_type": "code",
   "execution_count": null,
   "id": "feae63f5",
   "metadata": {},
   "outputs": [],
   "source": [
    "final_df.sample()"
   ]
  },
  {
   "cell_type": "markdown",
   "id": "081d9262",
   "metadata": {},
   "source": [
    "Now preprocessing is completely done, and we are good to go. Data has been completely reduced to the form it should be in. Now data has all required columns which are necessary for the model training. Now we'll apply ml processings and functions on it to have a good model"
   ]
  },
  {
   "cell_type": "code",
   "execution_count": null,
   "id": "9a3ecf51",
   "metadata": {},
   "outputs": [],
   "source": [
    "from sklearn.model_selection import train_test_split\n",
    "from sklearn.pipeline import Pipeline\n",
    "from sklearn.compose import ColumnTransformer\n",
    "from sklearn.preprocessing import OneHotEncoder\n",
    "from sklearn.linear_model import LogisticRegression\n",
    "from sklearn.metrics import accuracy_score"
   ]
  },
  {
   "cell_type": "code",
   "execution_count": null,
   "id": "a1d6e591",
   "metadata": {},
   "outputs": [],
   "source": [
    "X_train,X_test,y_train,y_test = train_test_split(final_df.drop(columns=['win'],axis=1),final_df['win'],random_state=0,test_size=0.2)\n",
    "print(f\"X_train shape : {X_train.shape}\\nX_test shape : {X_test.shape}\\ny_train shape : {y_train.shape}\\ny_test shape : {y_test.shape}\")"
   ]
  },
  {
   "cell_type": "code",
   "execution_count": null,
   "id": "a4cddc9c",
   "metadata": {},
   "outputs": [],
   "source": [
    "trf = ColumnTransformer([('OneHotEncoding',OneHotEncoder(drop='first',sparse_output=False),['city','batting_team','bowling_team'])],remainder='passthrough')\n",
    "\n",
    "pipe = Pipeline(steps=[('encoding',trf),('model_training',LogisticRegression(solver='liblinear'))])"
   ]
  },
  {
   "cell_type": "code",
   "execution_count": null,
   "id": "113a517e",
   "metadata": {},
   "outputs": [],
   "source": [
    "pipe.fit(X_train,y_train)"
   ]
  },
  {
   "cell_type": "code",
   "execution_count": null,
   "id": "72b44367",
   "metadata": {},
   "outputs": [],
   "source": [
    "ypred = pipe.predict(X_test)\n",
    "print('accuracy score is : ',int(accuracy_score(ypred,y_test)*100),'%')"
   ]
  },
  {
   "cell_type": "markdown",
   "id": "543b3e2b",
   "metadata": {},
   "source": [
    "Now all we needed to do with the data has been done. We have cleaned the data and also trained an ml model, it's time to convert it into a web app. For that I'll use pickle to dump my ml model object in a new file and we'll work there. ^_^"
   ]
  },
  {
   "cell_type": "code",
   "execution_count": null,
   "id": "96a6ee0f",
   "metadata": {},
   "outputs": [],
   "source": [
    "import pickle\n",
    "pickle.dump(pipe,open('ipl.pkl','wb'))"
   ]
  },
  {
   "cell_type": "code",
   "execution_count": null,
   "id": "da4a1523",
   "metadata": {},
   "outputs": [],
   "source": [
    "final_df['bowling_team'].unique()"
   ]
  },
  {
   "cell_type": "code",
   "execution_count": null,
   "id": "250d9e1c",
   "metadata": {},
   "outputs": [],
   "source": [
    "final_df['batting_team'].unique()"
   ]
  },
  {
   "cell_type": "code",
   "execution_count": null,
   "id": "c25ad9b3",
   "metadata": {},
   "outputs": [],
   "source": [
    "final_df['city'].unique()"
   ]
  }
 ],
 "metadata": {
  "kernelspec": {
   "display_name": "Python 3",
   "language": "python",
   "name": "python3"
  },
  "language_info": {
   "codemirror_mode": {
    "name": "ipython",
    "version": 3
   },
   "file_extension": ".py",
   "mimetype": "text/x-python",
   "name": "python",
   "nbconvert_exporter": "python",
   "pygments_lexer": "ipython3",
   "version": "3.12.4"
  }
 },
 "nbformat": 4,
 "nbformat_minor": 5
}
